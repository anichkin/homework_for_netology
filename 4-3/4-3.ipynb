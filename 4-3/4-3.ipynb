{
 "cells": [
  {
   "cell_type": "code",
   "execution_count": 324,
   "metadata": {
    "collapsed": true
   },
   "outputs": [],
   "source": [
    "import requests\n",
    "\n",
    "import pandas as pd\n",
    "import numpy as np\n",
    "import matplotlib.pyplot as plt\n",
    "import random\n",
    "\n",
    "%matplotlib inline"
   ]
  },
  {
   "cell_type": "code",
   "execution_count": 325,
   "metadata": {
    "collapsed": true
   },
   "outputs": [],
   "source": [
    "from scipy.cluster.vq import whiten, kmeans2"
   ]
  },
  {
   "cell_type": "code",
   "execution_count": 326,
   "metadata": {
    "collapsed": true
   },
   "outputs": [],
   "source": [
    "def call_api(uri, result_key):\n",
    "    json = {}\n",
    "    try:\n",
    "        json = requests.get(uri, headers = { 'X-Auth-Token': 'ab054a2e8a22424e82c4f137d107cfdc' }).json()\n",
    "        return json[result_key]\n",
    "    except:\n",
    "        print(json)\n",
    "        return None"
   ]
  },
  {
   "cell_type": "code",
   "execution_count": 327,
   "metadata": {},
   "outputs": [],
   "source": [
    "competitions = call_api('http://api.football-data.org/v1/competitions/426/leagueTable', 'standing')"
   ]
  },
  {
   "cell_type": "code",
   "execution_count": 328,
   "metadata": {},
   "outputs": [],
   "source": [
    "competition_for_pd = []\n",
    "for competition in competitions:\n",
    "    team = competition['teamName']\n",
    "    market_value = call_api(competition['_links']['team']['href'], 'squadMarketValue')\n",
    "    losses = competition['away']['losses'] + competition['home']['losses']\n",
    "    competition_for_pd.append({'Market value': market_value, 'Losses': losses, 'Name': team})"
   ]
  },
  {
   "cell_type": "code",
   "execution_count": 342,
   "metadata": {},
   "outputs": [
    {
     "data": {
      "text/plain": [
       "[{'Losses': 5, 'Market value': 305769, 'Name': 'Chelsea FC'},\n",
       " {'Losses': 4, 'Market value': 715933, 'Name': 'Tottenham Hotspur FC'},\n",
       " {'Losses': 6, 'Market value': 942007, 'Name': 'Manchester City FC'},\n",
       " {'Losses': 6, 'Market value': 107854, 'Name': 'Liverpool FC'},\n",
       " {'Losses': 9, 'Market value': 441933, 'Name': 'Arsenal FC'},\n",
       " {'Losses': 5, 'Market value': 171540, 'Name': 'Manchester United FC'},\n",
       " {'Losses': 11, 'Market value': 60219, 'Name': 'Everton FC'},\n",
       " {'Losses': 16, 'Market value': 52567, 'Name': 'Southampton FC'},\n",
       " {'Losses': 16, 'Market value': 404879, 'Name': 'AFC Bournemouth'},\n",
       " {'Losses': 17, 'Market value': 909000, 'Name': 'West Bromwich Albion FC'},\n",
       " {'Losses': 17, 'Market value': 757418, 'Name': 'West Ham United FC'},\n",
       " {'Losses': 18, 'Market value': 770910, 'Name': 'Leicester City FC'},\n",
       " {'Losses': 16, 'Market value': 977062, 'Name': 'Stoke City FC'},\n",
       " {'Losses': 21, 'Market value': 26991, 'Name': 'Crystal Palace FC'},\n",
       " {'Losses': 21, 'Market value': 156305, 'Name': 'Swansea City FC'},\n",
       " {'Losses': 20, 'Market value': 303280, 'Name': 'Burnley FC'},\n",
       " {'Losses': 20, 'Market value': 538416, 'Name': 'Watford FC'},\n",
       " {'Losses': 22, 'Market value': 501950, 'Name': 'Hull City FC'},\n",
       " {'Losses': 20, 'Market value': 156122, 'Name': 'Middlesbrough FC'},\n",
       " {'Losses': 26, 'Market value': 889268, 'Name': 'Sunderland AFC'}]"
      ]
     },
     "execution_count": 342,
     "metadata": {},
     "output_type": "execute_result"
    }
   ],
   "source": [
    "competition_for_pd"
   ]
  },
  {
   "cell_type": "code",
   "execution_count": 343,
   "metadata": {},
   "outputs": [],
   "source": [
    "for competition in competition_for_pd:\n",
    "    competition['Market value'] = random.randint(1, 999999)"
   ]
  },
  {
   "cell_type": "code",
   "execution_count": 344,
   "metadata": {},
   "outputs": [
    {
     "data": {
      "text/plain": [
       "[{'Losses': 5, 'Market value': 765352, 'Name': 'Chelsea FC'},\n",
       " {'Losses': 4, 'Market value': 862800, 'Name': 'Tottenham Hotspur FC'},\n",
       " {'Losses': 6, 'Market value': 885830, 'Name': 'Manchester City FC'},\n",
       " {'Losses': 6, 'Market value': 296687, 'Name': 'Liverpool FC'},\n",
       " {'Losses': 9, 'Market value': 568518, 'Name': 'Arsenal FC'},\n",
       " {'Losses': 5, 'Market value': 387028, 'Name': 'Manchester United FC'},\n",
       " {'Losses': 11, 'Market value': 259960, 'Name': 'Everton FC'},\n",
       " {'Losses': 16, 'Market value': 242530, 'Name': 'Southampton FC'},\n",
       " {'Losses': 16, 'Market value': 331189, 'Name': 'AFC Bournemouth'},\n",
       " {'Losses': 17, 'Market value': 16762, 'Name': 'West Bromwich Albion FC'},\n",
       " {'Losses': 17, 'Market value': 822677, 'Name': 'West Ham United FC'},\n",
       " {'Losses': 18, 'Market value': 405179, 'Name': 'Leicester City FC'},\n",
       " {'Losses': 16, 'Market value': 862703, 'Name': 'Stoke City FC'},\n",
       " {'Losses': 21, 'Market value': 584241, 'Name': 'Crystal Palace FC'},\n",
       " {'Losses': 21, 'Market value': 711683, 'Name': 'Swansea City FC'},\n",
       " {'Losses': 20, 'Market value': 927428, 'Name': 'Burnley FC'},\n",
       " {'Losses': 20, 'Market value': 937339, 'Name': 'Watford FC'},\n",
       " {'Losses': 22, 'Market value': 203335, 'Name': 'Hull City FC'},\n",
       " {'Losses': 20, 'Market value': 152854, 'Name': 'Middlesbrough FC'},\n",
       " {'Losses': 26, 'Market value': 573260, 'Name': 'Sunderland AFC'}]"
      ]
     },
     "execution_count": 344,
     "metadata": {},
     "output_type": "execute_result"
    }
   ],
   "source": [
    "competition_for_pd"
   ]
  },
  {
   "cell_type": "code",
   "execution_count": 345,
   "metadata": {},
   "outputs": [
    {
     "data": {
      "text/html": [
       "<div>\n",
       "<style>\n",
       "    .dataframe thead tr:only-child th {\n",
       "        text-align: right;\n",
       "    }\n",
       "\n",
       "    .dataframe thead th {\n",
       "        text-align: left;\n",
       "    }\n",
       "\n",
       "    .dataframe tbody tr th {\n",
       "        vertical-align: top;\n",
       "    }\n",
       "</style>\n",
       "<table border=\"1\" class=\"dataframe\">\n",
       "  <thead>\n",
       "    <tr style=\"text-align: right;\">\n",
       "      <th></th>\n",
       "      <th>Losses</th>\n",
       "      <th>Market value</th>\n",
       "      <th>Name</th>\n",
       "    </tr>\n",
       "  </thead>\n",
       "  <tbody>\n",
       "    <tr>\n",
       "      <th>0</th>\n",
       "      <td>5</td>\n",
       "      <td>765352</td>\n",
       "      <td>Chelsea FC</td>\n",
       "    </tr>\n",
       "    <tr>\n",
       "      <th>1</th>\n",
       "      <td>4</td>\n",
       "      <td>862800</td>\n",
       "      <td>Tottenham Hotspur FC</td>\n",
       "    </tr>\n",
       "    <tr>\n",
       "      <th>2</th>\n",
       "      <td>6</td>\n",
       "      <td>885830</td>\n",
       "      <td>Manchester City FC</td>\n",
       "    </tr>\n",
       "    <tr>\n",
       "      <th>3</th>\n",
       "      <td>6</td>\n",
       "      <td>296687</td>\n",
       "      <td>Liverpool FC</td>\n",
       "    </tr>\n",
       "    <tr>\n",
       "      <th>4</th>\n",
       "      <td>9</td>\n",
       "      <td>568518</td>\n",
       "      <td>Arsenal FC</td>\n",
       "    </tr>\n",
       "    <tr>\n",
       "      <th>5</th>\n",
       "      <td>5</td>\n",
       "      <td>387028</td>\n",
       "      <td>Manchester United FC</td>\n",
       "    </tr>\n",
       "    <tr>\n",
       "      <th>6</th>\n",
       "      <td>11</td>\n",
       "      <td>259960</td>\n",
       "      <td>Everton FC</td>\n",
       "    </tr>\n",
       "    <tr>\n",
       "      <th>7</th>\n",
       "      <td>16</td>\n",
       "      <td>242530</td>\n",
       "      <td>Southampton FC</td>\n",
       "    </tr>\n",
       "    <tr>\n",
       "      <th>8</th>\n",
       "      <td>16</td>\n",
       "      <td>331189</td>\n",
       "      <td>AFC Bournemouth</td>\n",
       "    </tr>\n",
       "    <tr>\n",
       "      <th>9</th>\n",
       "      <td>17</td>\n",
       "      <td>16762</td>\n",
       "      <td>West Bromwich Albion FC</td>\n",
       "    </tr>\n",
       "    <tr>\n",
       "      <th>10</th>\n",
       "      <td>17</td>\n",
       "      <td>822677</td>\n",
       "      <td>West Ham United FC</td>\n",
       "    </tr>\n",
       "    <tr>\n",
       "      <th>11</th>\n",
       "      <td>18</td>\n",
       "      <td>405179</td>\n",
       "      <td>Leicester City FC</td>\n",
       "    </tr>\n",
       "    <tr>\n",
       "      <th>12</th>\n",
       "      <td>16</td>\n",
       "      <td>862703</td>\n",
       "      <td>Stoke City FC</td>\n",
       "    </tr>\n",
       "    <tr>\n",
       "      <th>13</th>\n",
       "      <td>21</td>\n",
       "      <td>584241</td>\n",
       "      <td>Crystal Palace FC</td>\n",
       "    </tr>\n",
       "    <tr>\n",
       "      <th>14</th>\n",
       "      <td>21</td>\n",
       "      <td>711683</td>\n",
       "      <td>Swansea City FC</td>\n",
       "    </tr>\n",
       "    <tr>\n",
       "      <th>15</th>\n",
       "      <td>20</td>\n",
       "      <td>927428</td>\n",
       "      <td>Burnley FC</td>\n",
       "    </tr>\n",
       "    <tr>\n",
       "      <th>16</th>\n",
       "      <td>20</td>\n",
       "      <td>937339</td>\n",
       "      <td>Watford FC</td>\n",
       "    </tr>\n",
       "    <tr>\n",
       "      <th>17</th>\n",
       "      <td>22</td>\n",
       "      <td>203335</td>\n",
       "      <td>Hull City FC</td>\n",
       "    </tr>\n",
       "    <tr>\n",
       "      <th>18</th>\n",
       "      <td>20</td>\n",
       "      <td>152854</td>\n",
       "      <td>Middlesbrough FC</td>\n",
       "    </tr>\n",
       "    <tr>\n",
       "      <th>19</th>\n",
       "      <td>26</td>\n",
       "      <td>573260</td>\n",
       "      <td>Sunderland AFC</td>\n",
       "    </tr>\n",
       "  </tbody>\n",
       "</table>\n",
       "</div>"
      ],
      "text/plain": [
       "    Losses  Market value                     Name\n",
       "0        5        765352               Chelsea FC\n",
       "1        4        862800     Tottenham Hotspur FC\n",
       "2        6        885830       Manchester City FC\n",
       "3        6        296687             Liverpool FC\n",
       "4        9        568518               Arsenal FC\n",
       "5        5        387028     Manchester United FC\n",
       "6       11        259960               Everton FC\n",
       "7       16        242530           Southampton FC\n",
       "8       16        331189          AFC Bournemouth\n",
       "9       17         16762  West Bromwich Albion FC\n",
       "10      17        822677       West Ham United FC\n",
       "11      18        405179        Leicester City FC\n",
       "12      16        862703            Stoke City FC\n",
       "13      21        584241        Crystal Palace FC\n",
       "14      21        711683          Swansea City FC\n",
       "15      20        927428               Burnley FC\n",
       "16      20        937339               Watford FC\n",
       "17      22        203335             Hull City FC\n",
       "18      20        152854         Middlesbrough FC\n",
       "19      26        573260           Sunderland AFC"
      ]
     },
     "execution_count": 345,
     "metadata": {},
     "output_type": "execute_result"
    }
   ],
   "source": [
    "competition_pd = pd.DataFrame(competition_for_pd)\n",
    "competition_pd"
   ]
  },
  {
   "cell_type": "code",
   "execution_count": 346,
   "metadata": {},
   "outputs": [
    {
     "data": {
      "text/plain": [
       "<matplotlib.axes._subplots.AxesSubplot at 0x224bb1ebdd8>"
      ]
     },
     "execution_count": 346,
     "metadata": {},
     "output_type": "execute_result"
    },
    {
     "data": {
      "image/png": "[encoded data removed]",
      "text/plain": [
       "<matplotlib.figure.Figure at 0x224bb27f320>"
      ]
     },
     "metadata": {},
     "output_type": "display_data"
    }
   ],
   "source": [
    "competition_pd.plot.scatter(x='Losses', y='Market value', s=100)"
   ]
  },
  {
   "cell_type": "code",
   "execution_count": 347,
   "metadata": {},
   "outputs": [
    {
     "data": {
      "text/html": [
       "<div>\n",
       "<style>\n",
       "    .dataframe thead tr:only-child th {\n",
       "        text-align: right;\n",
       "    }\n",
       "\n",
       "    .dataframe thead th {\n",
       "        text-align: left;\n",
       "    }\n",
       "\n",
       "    .dataframe tbody tr th {\n",
       "        vertical-align: top;\n",
       "    }\n",
       "</style>\n",
       "<table border=\"1\" class=\"dataframe\">\n",
       "  <thead>\n",
       "    <tr style=\"text-align: right;\">\n",
       "      <th></th>\n",
       "      <th>Losses</th>\n",
       "      <th>Market value</th>\n",
       "    </tr>\n",
       "  </thead>\n",
       "  <tbody>\n",
       "    <tr>\n",
       "      <th>0</th>\n",
       "      <td>5</td>\n",
       "      <td>765352</td>\n",
       "    </tr>\n",
       "    <tr>\n",
       "      <th>1</th>\n",
       "      <td>4</td>\n",
       "      <td>862800</td>\n",
       "    </tr>\n",
       "    <tr>\n",
       "      <th>2</th>\n",
       "      <td>6</td>\n",
       "      <td>885830</td>\n",
       "    </tr>\n",
       "    <tr>\n",
       "      <th>3</th>\n",
       "      <td>6</td>\n",
       "      <td>296687</td>\n",
       "    </tr>\n",
       "    <tr>\n",
       "      <th>4</th>\n",
       "      <td>9</td>\n",
       "      <td>568518</td>\n",
       "    </tr>\n",
       "    <tr>\n",
       "      <th>5</th>\n",
       "      <td>5</td>\n",
       "      <td>387028</td>\n",
       "    </tr>\n",
       "    <tr>\n",
       "      <th>6</th>\n",
       "      <td>11</td>\n",
       "      <td>259960</td>\n",
       "    </tr>\n",
       "    <tr>\n",
       "      <th>7</th>\n",
       "      <td>16</td>\n",
       "      <td>242530</td>\n",
       "    </tr>\n",
       "    <tr>\n",
       "      <th>8</th>\n",
       "      <td>16</td>\n",
       "      <td>331189</td>\n",
       "    </tr>\n",
       "    <tr>\n",
       "      <th>9</th>\n",
       "      <td>17</td>\n",
       "      <td>16762</td>\n",
       "    </tr>\n",
       "    <tr>\n",
       "      <th>10</th>\n",
       "      <td>17</td>\n",
       "      <td>822677</td>\n",
       "    </tr>\n",
       "    <tr>\n",
       "      <th>11</th>\n",
       "      <td>18</td>\n",
       "      <td>405179</td>\n",
       "    </tr>\n",
       "    <tr>\n",
       "      <th>12</th>\n",
       "      <td>16</td>\n",
       "      <td>862703</td>\n",
       "    </tr>\n",
       "    <tr>\n",
       "      <th>13</th>\n",
       "      <td>21</td>\n",
       "      <td>584241</td>\n",
       "    </tr>\n",
       "    <tr>\n",
       "      <th>14</th>\n",
       "      <td>21</td>\n",
       "      <td>711683</td>\n",
       "    </tr>\n",
       "    <tr>\n",
       "      <th>15</th>\n",
       "      <td>20</td>\n",
       "      <td>927428</td>\n",
       "    </tr>\n",
       "    <tr>\n",
       "      <th>16</th>\n",
       "      <td>20</td>\n",
       "      <td>937339</td>\n",
       "    </tr>\n",
       "    <tr>\n",
       "      <th>17</th>\n",
       "      <td>22</td>\n",
       "      <td>203335</td>\n",
       "    </tr>\n",
       "    <tr>\n",
       "      <th>18</th>\n",
       "      <td>20</td>\n",
       "      <td>152854</td>\n",
       "    </tr>\n",
       "    <tr>\n",
       "      <th>19</th>\n",
       "      <td>26</td>\n",
       "      <td>573260</td>\n",
       "    </tr>\n",
       "  </tbody>\n",
       "</table>\n",
       "</div>"
      ],
      "text/plain": [
       "    Losses  Market value\n",
       "0        5        765352\n",
       "1        4        862800\n",
       "2        6        885830\n",
       "3        6        296687\n",
       "4        9        568518\n",
       "5        5        387028\n",
       "6       11        259960\n",
       "7       16        242530\n",
       "8       16        331189\n",
       "9       17         16762\n",
       "10      17        822677\n",
       "11      18        405179\n",
       "12      16        862703\n",
       "13      21        584241\n",
       "14      21        711683\n",
       "15      20        927428\n",
       "16      20        937339\n",
       "17      22        203335\n",
       "18      20        152854\n",
       "19      26        573260"
      ]
     },
     "execution_count": 347,
     "metadata": {},
     "output_type": "execute_result"
    }
   ],
   "source": [
    "del competition_pd['Name']\n",
    "competition_pd"
   ]
  },
  {
   "cell_type": "code",
   "execution_count": 348,
   "metadata": {},
   "outputs": [
    {
     "data": {
      "text/plain": [
       "array([[ 0.75757576,  2.66602781],\n",
       "       [ 0.60606061,  3.00547826],\n",
       "       [ 0.90909091,  3.08570098],\n",
       "       [ 0.90909091,  1.03347975],\n",
       "       [ 1.36363636,  1.98037609],\n",
       "       [ 0.75757576,  1.34817367],\n",
       "       [ 1.66666667,  0.90554489],\n",
       "       [ 2.42424242,  0.84482921],\n",
       "       [ 2.42424242,  1.15366405],\n",
       "       [ 2.57575758,  0.05838877],\n",
       "       [ 2.57575758,  2.86571376],\n",
       "       [ 2.72727273,  1.41140087],\n",
       "       [ 2.42424242,  3.00514037],\n",
       "       [ 3.18181818,  2.0351456 ],\n",
       "       [ 3.18181818,  2.47907717],\n",
       "       [ 3.03030303,  3.23060349],\n",
       "       [ 3.03030303,  3.26512747],\n",
       "       [ 3.33333333,  0.70829731],\n",
       "       [ 3.03030303,  0.53245175],\n",
       "       [ 3.93939394,  1.99689437]])"
      ]
     },
     "execution_count": 348,
     "metadata": {},
     "output_type": "execute_result"
    }
   ],
   "source": [
    "whitened = whiten(competition_pd.as_matrix())\n",
    "whitened"
   ]
  },
  {
   "cell_type": "code",
   "execution_count": 349,
   "metadata": {},
   "outputs": [
    {
     "data": {
      "text/plain": [
       "(array([[ 0.995671  ,  2.0035402 ],\n",
       "        [ 2.84848485,  2.96913245],\n",
       "        [ 2.95454545,  1.09263399]]),\n",
       " array([0, 0, 0, 0, 0, 0, 0, 2, 2, 2, 1, 2, 1, 2, 1, 1, 1, 2, 2, 2]))"
      ]
     },
     "execution_count": 349,
     "metadata": {},
     "output_type": "execute_result"
    }
   ],
   "source": [
    "centroids, cluster_map = kmeans2(whitened, 3)\n",
    "centroids, cluster_map"
   ]
  },
  {
   "cell_type": "code",
   "execution_count": 350,
   "metadata": {},
   "outputs": [
    {
     "data": {
      "text/plain": [
       "['r',\n",
       " 'r',\n",
       " 'r',\n",
       " 'r',\n",
       " 'r',\n",
       " 'r',\n",
       " 'r',\n",
       " 'b',\n",
       " 'b',\n",
       " 'b',\n",
       " 'g',\n",
       " 'b',\n",
       " 'g',\n",
       " 'b',\n",
       " 'g',\n",
       " 'g',\n",
       " 'g',\n",
       " 'b',\n",
       " 'b',\n",
       " 'b']"
      ]
     },
     "execution_count": 350,
     "metadata": {},
     "output_type": "execute_result"
    }
   ],
   "source": [
    "colors_map = {0: 'r', 1: 'g', 2: 'b', 3: 'y', 4: 'm'}\n",
    "colors = [colors_map[c] for c in cluster_map]\n",
    "colors"
   ]
  },
  {
   "cell_type": "code",
   "execution_count": 351,
   "metadata": {},
   "outputs": [
    {
     "data": {
      "text/plain": [
       "<matplotlib.axes._subplots.AxesSubplot at 0x224bb2ab0b8>"
      ]
     },
     "execution_count": 351,
     "metadata": {},
     "output_type": "execute_result"
    },
    {
     "data": {
      "image/png": "[encoded data removed]",
      "text/plain": [
       "<matplotlib.figure.Figure at 0x224bb2a18d0>"
      ]
     },
     "metadata": {},
     "output_type": "display_data"
    }
   ],
   "source": [
    "competition_pd.plot.scatter(x='Losses', y='Market value', c=colors, s=100)"
   ]
  },
  {
   "cell_type": "code",
   "execution_count": 352,
   "metadata": {},
   "outputs": [
    {
     "data": {
      "text/plain": [
       "(array([[ 2.76515152,  3.09164627],\n",
       "        [ 3.43434343,  2.17037238],\n",
       "        [ 0.75757576,  2.91906901],\n",
       "        [ 2.75252525,  0.78483866],\n",
       "        [ 1.17424242,  1.3168936 ]]),\n",
       " array([2, 2, 2, 4, 4, 4, 4, 3, 3, 3, 0, 3, 0, 1, 1, 0, 0, 3, 3, 1]))"
      ]
     },
     "execution_count": 352,
     "metadata": {},
     "output_type": "execute_result"
    }
   ],
   "source": [
    "centroids, cluster_map = kmeans2(whitened, 5)\n",
    "centroids, cluster_map"
   ]
  },
  {
   "cell_type": "code",
   "execution_count": 353,
   "metadata": {},
   "outputs": [
    {
     "data": {
      "text/plain": [
       "['b',\n",
       " 'b',\n",
       " 'b',\n",
       " 'm',\n",
       " 'm',\n",
       " 'm',\n",
       " 'm',\n",
       " 'y',\n",
       " 'y',\n",
       " 'y',\n",
       " 'r',\n",
       " 'y',\n",
       " 'r',\n",
       " 'g',\n",
       " 'g',\n",
       " 'r',\n",
       " 'r',\n",
       " 'y',\n",
       " 'y',\n",
       " 'g']"
      ]
     },
     "execution_count": 353,
     "metadata": {},
     "output_type": "execute_result"
    }
   ],
   "source": [
    "colors_map = {0: 'r', 1: 'g', 2: 'b', 3: 'y', 4: 'm'}\n",
    "colors = [colors_map[c] for c in cluster_map]\n",
    "colors"
   ]
  },
  {
   "cell_type": "code",
   "execution_count": 354,
   "metadata": {},
   "outputs": [
    {
     "data": {
      "text/plain": [
       "<matplotlib.axes._subplots.AxesSubplot at 0x224bb2f66d8>"
      ]
     },
     "execution_count": 354,
     "metadata": {},
     "output_type": "execute_result"
    },
    {
     "data": {
      "image/png": "[encoded data removed]",
      "text/plain": [
       "<matplotlib.figure.Figure at 0x224bb2b0940>"
      ]
     },
     "metadata": {},
     "output_type": "display_data"
    }
   ],
   "source": [
    "competition_pd.plot.scatter(x='Losses', y='Market value', c=colors, s=100)"
   ]
  }
 ],
 "metadata": {
  "kernelspec": {
   "display_name": "Python 3",
   "language": "python",
   "name": "python3"
  },
  "language_info": {
   "codemirror_mode": {
    "name": "ipython",
    "version": 3
   },
   "file_extension": ".py",
   "mimetype": "text/x-python",
   "name": "python",
   "nbconvert_exporter": "python",
   "pygments_lexer": "ipython3",
   "version": "3.6.3"
  }
 },
 "nbformat": 4,
 "nbformat_minor": 2
}
