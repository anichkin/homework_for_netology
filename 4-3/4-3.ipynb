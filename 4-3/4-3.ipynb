{
 "cells": [
  {
   "cell_type": "code",
   "execution_count": 355,
   "metadata": {
    "collapsed": true
   },
   "outputs": [],
   "source": [
    "import requests\n",
    "\n",
    "import pandas as pd\n",
    "import numpy as np\n",
    "import matplotlib.pyplot as plt\n",
    "import random\n",
    "\n",
    "%matplotlib inline"
   ]
  },
  {
   "cell_type": "code",
   "execution_count": 356,
   "metadata": {
    "collapsed": true
   },
   "outputs": [],
   "source": [
    "from scipy.cluster.vq import whiten, kmeans2"
   ]
  },
  {
   "cell_type": "code",
   "execution_count": 357,
   "metadata": {
    "collapsed": true
   },
   "outputs": [],
   "source": [
    "def call_api(uri, result_key):\n",
    "    json = {}\n",
    "    try:\n",
    "        json = requests.get(uri, headers = { 'X-Auth-Token': 'ab054a2e8a22424e82c4f137d107cfdc' }).json()\n",
    "        return json[result_key]\n",
    "    except:\n",
    "        print(json)\n",
    "        return None"
   ]
  },
  {
   "cell_type": "code",
   "execution_count": 358,
   "metadata": {},
   "outputs": [],
   "source": [
    "competitions = call_api('http://api.football-data.org/v1/competitions/426/leagueTable', 'standing')"
   ]
  },
  {
   "cell_type": "code",
   "execution_count": 359,
   "metadata": {},
   "outputs": [],
   "source": [
    "competition_for_pd = []\n",
    "for competition in competitions:\n",
    "    team = competition['teamName']\n",
    "    market_value = call_api(competition['_links']['team']['href'], 'squadMarketValue')\n",
    "    losses = competition['away']['losses'] + competition['home']['losses']\n",
    "    competition_for_pd.append({'Market value': market_value, 'Losses': losses, 'Name': team})"
   ]
  },
  {
   "cell_type": "code",
   "execution_count": 360,
   "metadata": {},
   "outputs": [
    {
     "data": {
      "text/plain": [
       "[{'Losses': 5, 'Market value': None, 'Name': 'Chelsea FC'},\n",
       " {'Losses': 4, 'Market value': None, 'Name': 'Tottenham Hotspur FC'},\n",
       " {'Losses': 6, 'Market value': None, 'Name': 'Manchester City FC'},\n",
       " {'Losses': 6, 'Market value': None, 'Name': 'Liverpool FC'},\n",
       " {'Losses': 9, 'Market value': None, 'Name': 'Arsenal FC'},\n",
       " {'Losses': 5, 'Market value': None, 'Name': 'Manchester United FC'},\n",
       " {'Losses': 11, 'Market value': None, 'Name': 'Everton FC'},\n",
       " {'Losses': 16, 'Market value': None, 'Name': 'Southampton FC'},\n",
       " {'Losses': 16, 'Market value': None, 'Name': 'AFC Bournemouth'},\n",
       " {'Losses': 17, 'Market value': None, 'Name': 'West Bromwich Albion FC'},\n",
       " {'Losses': 17, 'Market value': None, 'Name': 'West Ham United FC'},\n",
       " {'Losses': 18, 'Market value': None, 'Name': 'Leicester City FC'},\n",
       " {'Losses': 16, 'Market value': None, 'Name': 'Stoke City FC'},\n",
       " {'Losses': 21, 'Market value': None, 'Name': 'Crystal Palace FC'},\n",
       " {'Losses': 21, 'Market value': None, 'Name': 'Swansea City FC'},\n",
       " {'Losses': 20, 'Market value': None, 'Name': 'Burnley FC'},\n",
       " {'Losses': 20, 'Market value': None, 'Name': 'Watford FC'},\n",
       " {'Losses': 22, 'Market value': None, 'Name': 'Hull City FC'},\n",
       " {'Losses': 20, 'Market value': None, 'Name': 'Middlesbrough FC'},\n",
       " {'Losses': 26, 'Market value': None, 'Name': 'Sunderland AFC'}]"
      ]
     },
     "execution_count": 360,
     "metadata": {},
     "output_type": "execute_result"
    }
   ],
   "source": [
    "competition_for_pd"
   ]
  },
  {
   "cell_type": "code",
   "execution_count": 361,
   "metadata": {},
   "outputs": [],
   "source": [
    "for competition in competition_for_pd:\n",
    "    competition['Market value'] = random.randint(1, 999999)"
   ]
  },
  {
   "cell_type": "code",
   "execution_count": 362,
   "metadata": {},
   "outputs": [
    {
     "data": {
      "text/plain": [
       "[{'Losses': 5, 'Market value': 597840, 'Name': 'Chelsea FC'},\n",
       " {'Losses': 4, 'Market value': 867633, 'Name': 'Tottenham Hotspur FC'},\n",
       " {'Losses': 6, 'Market value': 19077, 'Name': 'Manchester City FC'},\n",
       " {'Losses': 6, 'Market value': 401802, 'Name': 'Liverpool FC'},\n",
       " {'Losses': 9, 'Market value': 883189, 'Name': 'Arsenal FC'},\n",
       " {'Losses': 5, 'Market value': 727506, 'Name': 'Manchester United FC'},\n",
       " {'Losses': 11, 'Market value': 887029, 'Name': 'Everton FC'},\n",
       " {'Losses': 16, 'Market value': 135880, 'Name': 'Southampton FC'},\n",
       " {'Losses': 16, 'Market value': 59586, 'Name': 'AFC Bournemouth'},\n",
       " {'Losses': 17, 'Market value': 616396, 'Name': 'West Bromwich Albion FC'},\n",
       " {'Losses': 17, 'Market value': 672384, 'Name': 'West Ham United FC'},\n",
       " {'Losses': 18, 'Market value': 98848, 'Name': 'Leicester City FC'},\n",
       " {'Losses': 16, 'Market value': 945655, 'Name': 'Stoke City FC'},\n",
       " {'Losses': 21, 'Market value': 136262, 'Name': 'Crystal Palace FC'},\n",
       " {'Losses': 21, 'Market value': 353105, 'Name': 'Swansea City FC'},\n",
       " {'Losses': 20, 'Market value': 636070, 'Name': 'Burnley FC'},\n",
       " {'Losses': 20, 'Market value': 844537, 'Name': 'Watford FC'},\n",
       " {'Losses': 22, 'Market value': 352415, 'Name': 'Hull City FC'},\n",
       " {'Losses': 20, 'Market value': 967487, 'Name': 'Middlesbrough FC'},\n",
       " {'Losses': 26, 'Market value': 248214, 'Name': 'Sunderland AFC'}]"
      ]
     },
     "execution_count": 362,
     "metadata": {},
     "output_type": "execute_result"
    }
   ],
   "source": [
    "competition_for_pd"
   ]
  },
  {
   "cell_type": "code",
   "execution_count": 363,
   "metadata": {},
   "outputs": [
    {
     "data": {
      "text/html": [
       "<div>\n",
       "<style>\n",
       "    .dataframe thead tr:only-child th {\n",
       "        text-align: right;\n",
       "    }\n",
       "\n",
       "    .dataframe thead th {\n",
       "        text-align: left;\n",
       "    }\n",
       "\n",
       "    .dataframe tbody tr th {\n",
       "        vertical-align: top;\n",
       "    }\n",
       "</style>\n",
       "<table border=\"1\" class=\"dataframe\">\n",
       "  <thead>\n",
       "    <tr style=\"text-align: right;\">\n",
       "      <th></th>\n",
       "      <th>Losses</th>\n",
       "      <th>Market value</th>\n",
       "      <th>Name</th>\n",
       "    </tr>\n",
       "  </thead>\n",
       "  <tbody>\n",
       "    <tr>\n",
       "      <th>0</th>\n",
       "      <td>5</td>\n",
       "      <td>597840</td>\n",
       "      <td>Chelsea FC</td>\n",
       "    </tr>\n",
       "    <tr>\n",
       "      <th>1</th>\n",
       "      <td>4</td>\n",
       "      <td>867633</td>\n",
       "      <td>Tottenham Hotspur FC</td>\n",
       "    </tr>\n",
       "    <tr>\n",
       "      <th>2</th>\n",
       "      <td>6</td>\n",
       "      <td>19077</td>\n",
       "      <td>Manchester City FC</td>\n",
       "    </tr>\n",
       "    <tr>\n",
       "      <th>3</th>\n",
       "      <td>6</td>\n",
       "      <td>401802</td>\n",
       "      <td>Liverpool FC</td>\n",
       "    </tr>\n",
       "    <tr>\n",
       "      <th>4</th>\n",
       "      <td>9</td>\n",
       "      <td>883189</td>\n",
       "      <td>Arsenal FC</td>\n",
       "    </tr>\n",
       "    <tr>\n",
       "      <th>5</th>\n",
       "      <td>5</td>\n",
       "      <td>727506</td>\n",
       "      <td>Manchester United FC</td>\n",
       "    </tr>\n",
       "    <tr>\n",
       "      <th>6</th>\n",
       "      <td>11</td>\n",
       "      <td>887029</td>\n",
       "      <td>Everton FC</td>\n",
       "    </tr>\n",
       "    <tr>\n",
       "      <th>7</th>\n",
       "      <td>16</td>\n",
       "      <td>135880</td>\n",
       "      <td>Southampton FC</td>\n",
       "    </tr>\n",
       "    <tr>\n",
       "      <th>8</th>\n",
       "      <td>16</td>\n",
       "      <td>59586</td>\n",
       "      <td>AFC Bournemouth</td>\n",
       "    </tr>\n",
       "    <tr>\n",
       "      <th>9</th>\n",
       "      <td>17</td>\n",
       "      <td>616396</td>\n",
       "      <td>West Bromwich Albion FC</td>\n",
       "    </tr>\n",
       "    <tr>\n",
       "      <th>10</th>\n",
       "      <td>17</td>\n",
       "      <td>672384</td>\n",
       "      <td>West Ham United FC</td>\n",
       "    </tr>\n",
       "    <tr>\n",
       "      <th>11</th>\n",
       "      <td>18</td>\n",
       "      <td>98848</td>\n",
       "      <td>Leicester City FC</td>\n",
       "    </tr>\n",
       "    <tr>\n",
       "      <th>12</th>\n",
       "      <td>16</td>\n",
       "      <td>945655</td>\n",
       "      <td>Stoke City FC</td>\n",
       "    </tr>\n",
       "    <tr>\n",
       "      <th>13</th>\n",
       "      <td>21</td>\n",
       "      <td>136262</td>\n",
       "      <td>Crystal Palace FC</td>\n",
       "    </tr>\n",
       "    <tr>\n",
       "      <th>14</th>\n",
       "      <td>21</td>\n",
       "      <td>353105</td>\n",
       "      <td>Swansea City FC</td>\n",
       "    </tr>\n",
       "    <tr>\n",
       "      <th>15</th>\n",
       "      <td>20</td>\n",
       "      <td>636070</td>\n",
       "      <td>Burnley FC</td>\n",
       "    </tr>\n",
       "    <tr>\n",
       "      <th>16</th>\n",
       "      <td>20</td>\n",
       "      <td>844537</td>\n",
       "      <td>Watford FC</td>\n",
       "    </tr>\n",
       "    <tr>\n",
       "      <th>17</th>\n",
       "      <td>22</td>\n",
       "      <td>352415</td>\n",
       "      <td>Hull City FC</td>\n",
       "    </tr>\n",
       "    <tr>\n",
       "      <th>18</th>\n",
       "      <td>20</td>\n",
       "      <td>967487</td>\n",
       "      <td>Middlesbrough FC</td>\n",
       "    </tr>\n",
       "    <tr>\n",
       "      <th>19</th>\n",
       "      <td>26</td>\n",
       "      <td>248214</td>\n",
       "      <td>Sunderland AFC</td>\n",
       "    </tr>\n",
       "  </tbody>\n",
       "</table>\n",
       "</div>"
      ],
      "text/plain": [
       "    Losses  Market value                     Name\n",
       "0        5        597840               Chelsea FC\n",
       "1        4        867633     Tottenham Hotspur FC\n",
       "2        6         19077       Manchester City FC\n",
       "3        6        401802             Liverpool FC\n",
       "4        9        883189               Arsenal FC\n",
       "5        5        727506     Manchester United FC\n",
       "6       11        887029               Everton FC\n",
       "7       16        135880           Southampton FC\n",
       "8       16         59586          AFC Bournemouth\n",
       "9       17        616396  West Bromwich Albion FC\n",
       "10      17        672384       West Ham United FC\n",
       "11      18         98848        Leicester City FC\n",
       "12      16        945655            Stoke City FC\n",
       "13      21        136262        Crystal Palace FC\n",
       "14      21        353105          Swansea City FC\n",
       "15      20        636070               Burnley FC\n",
       "16      20        844537               Watford FC\n",
       "17      22        352415             Hull City FC\n",
       "18      20        967487         Middlesbrough FC\n",
       "19      26        248214           Sunderland AFC"
      ]
     },
     "execution_count": 363,
     "metadata": {},
     "output_type": "execute_result"
    }
   ],
   "source": [
    "competition_pd = pd.DataFrame(competition_for_pd)\n",
    "competition_pd"
   ]
  },
  {
   "cell_type": "code",
   "execution_count": 364,
   "metadata": {},
   "outputs": [
    {
     "data": {
      "text/plain": [
       "<matplotlib.axes._subplots.AxesSubplot at 0x224bb3846a0>"
      ]
     },
     "execution_count": 364,
     "metadata": {},
     "output_type": "execute_result"
    },
    {
     "data": {
      "image/png": "[encoded data removed]",
      "text/plain": [
       "<matplotlib.figure.Figure at 0x224bb216320>"
      ]
     },
     "metadata": {},
     "output_type": "display_data"
    }
   ],
   "source": [
    "competition_pd.plot.scatter(x='Losses', y='Market value', s=100)"
   ]
  },
  {
   "cell_type": "code",
   "execution_count": 365,
   "metadata": {},
   "outputs": [
    {
     "data": {
      "text/html": [
       "<div>\n",
       "<style>\n",
       "    .dataframe thead tr:only-child th {\n",
       "        text-align: right;\n",
       "    }\n",
       "\n",
       "    .dataframe thead th {\n",
       "        text-align: left;\n",
       "    }\n",
       "\n",
       "    .dataframe tbody tr th {\n",
       "        vertical-align: top;\n",
       "    }\n",
       "</style>\n",
       "<table border=\"1\" class=\"dataframe\">\n",
       "  <thead>\n",
       "    <tr style=\"text-align: right;\">\n",
       "      <th></th>\n",
       "      <th>Losses</th>\n",
       "      <th>Market value</th>\n",
       "    </tr>\n",
       "  </thead>\n",
       "  <tbody>\n",
       "    <tr>\n",
       "      <th>0</th>\n",
       "      <td>5</td>\n",
       "      <td>597840</td>\n",
       "    </tr>\n",
       "    <tr>\n",
       "      <th>1</th>\n",
       "      <td>4</td>\n",
       "      <td>867633</td>\n",
       "    </tr>\n",
       "    <tr>\n",
       "      <th>2</th>\n",
       "      <td>6</td>\n",
       "      <td>19077</td>\n",
       "    </tr>\n",
       "    <tr>\n",
       "      <th>3</th>\n",
       "      <td>6</td>\n",
       "      <td>401802</td>\n",
       "    </tr>\n",
       "    <tr>\n",
       "      <th>4</th>\n",
       "      <td>9</td>\n",
       "      <td>883189</td>\n",
       "    </tr>\n",
       "    <tr>\n",
       "      <th>5</th>\n",
       "      <td>5</td>\n",
       "      <td>727506</td>\n",
       "    </tr>\n",
       "    <tr>\n",
       "      <th>6</th>\n",
       "      <td>11</td>\n",
       "      <td>887029</td>\n",
       "    </tr>\n",
       "    <tr>\n",
       "      <th>7</th>\n",
       "      <td>16</td>\n",
       "      <td>135880</td>\n",
       "    </tr>\n",
       "    <tr>\n",
       "      <th>8</th>\n",
       "      <td>16</td>\n",
       "      <td>59586</td>\n",
       "    </tr>\n",
       "    <tr>\n",
       "      <th>9</th>\n",
       "      <td>17</td>\n",
       "      <td>616396</td>\n",
       "    </tr>\n",
       "    <tr>\n",
       "      <th>10</th>\n",
       "      <td>17</td>\n",
       "      <td>672384</td>\n",
       "    </tr>\n",
       "    <tr>\n",
       "      <th>11</th>\n",
       "      <td>18</td>\n",
       "      <td>98848</td>\n",
       "    </tr>\n",
       "    <tr>\n",
       "      <th>12</th>\n",
       "      <td>16</td>\n",
       "      <td>945655</td>\n",
       "    </tr>\n",
       "    <tr>\n",
       "      <th>13</th>\n",
       "      <td>21</td>\n",
       "      <td>136262</td>\n",
       "    </tr>\n",
       "    <tr>\n",
       "      <th>14</th>\n",
       "      <td>21</td>\n",
       "      <td>353105</td>\n",
       "    </tr>\n",
       "    <tr>\n",
       "      <th>15</th>\n",
       "      <td>20</td>\n",
       "      <td>636070</td>\n",
       "    </tr>\n",
       "    <tr>\n",
       "      <th>16</th>\n",
       "      <td>20</td>\n",
       "      <td>844537</td>\n",
       "    </tr>\n",
       "    <tr>\n",
       "      <th>17</th>\n",
       "      <td>22</td>\n",
       "      <td>352415</td>\n",
       "    </tr>\n",
       "    <tr>\n",
       "      <th>18</th>\n",
       "      <td>20</td>\n",
       "      <td>967487</td>\n",
       "    </tr>\n",
       "    <tr>\n",
       "      <th>19</th>\n",
       "      <td>26</td>\n",
       "      <td>248214</td>\n",
       "    </tr>\n",
       "  </tbody>\n",
       "</table>\n",
       "</div>"
      ],
      "text/plain": [
       "    Losses  Market value\n",
       "0        5        597840\n",
       "1        4        867633\n",
       "2        6         19077\n",
       "3        6        401802\n",
       "4        9        883189\n",
       "5        5        727506\n",
       "6       11        887029\n",
       "7       16        135880\n",
       "8       16         59586\n",
       "9       17        616396\n",
       "10      17        672384\n",
       "11      18         98848\n",
       "12      16        945655\n",
       "13      21        136262\n",
       "14      21        353105\n",
       "15      20        636070\n",
       "16      20        844537\n",
       "17      22        352415\n",
       "18      20        967487\n",
       "19      26        248214"
      ]
     },
     "execution_count": 365,
     "metadata": {},
     "output_type": "execute_result"
    }
   ],
   "source": [
    "del competition_pd['Name']\n",
    "competition_pd"
   ]
  },
  {
   "cell_type": "code",
   "execution_count": 366,
   "metadata": {},
   "outputs": [
    {
     "data": {
      "text/plain": [
       "array([[ 0.75757576,  1.86823002],\n",
       "       [ 0.60606061,  2.71132412],\n",
       "       [ 0.90909091,  0.05961499],\n",
       "       [ 0.90909091,  1.25561782],\n",
       "       [ 1.36363636,  2.7599361 ],\n",
       "       [ 0.75757576,  2.27343193],\n",
       "       [ 1.66666667,  2.77193598],\n",
       "       [ 2.42424242,  0.42462046],\n",
       "       [ 2.42424242,  0.18620426],\n",
       "       [ 2.57575758,  1.9262169 ],\n",
       "       [ 2.57575758,  2.10117753],\n",
       "       [ 2.72727273,  0.3088967 ],\n",
       "       [ 2.42424242,  2.95514027],\n",
       "       [ 3.18181818,  0.4258142 ],\n",
       "       [ 3.18181818,  1.10344132],\n",
       "       [ 3.03030303,  1.98769749],\n",
       "       [ 3.03030303,  2.6391499 ],\n",
       "       [ 3.33333333,  1.1012851 ],\n",
       "       [ 3.03030303,  3.02336454],\n",
       "       [ 3.93939394,  0.77566045]])"
      ]
     },
     "execution_count": 366,
     "metadata": {},
     "output_type": "execute_result"
    }
   ],
   "source": [
    "whitened = whiten(competition_pd.as_matrix())\n",
    "whitened"
   ]
  },
  {
   "cell_type": "code",
   "execution_count": 367,
   "metadata": {},
   "outputs": [
    {
     "data": {
      "text/plain": [
       "(array([[ 0.78787879,  1.63364378],\n",
       "        [ 2.46212121,  2.52057734],\n",
       "        [ 3.03030303,  0.61798893]]),\n",
       " array([0, 0, 0, 0, 1, 0, 1, 2, 2, 1, 1, 2, 1, 2, 2, 1, 1, 2, 1, 2]))"
      ]
     },
     "execution_count": 367,
     "metadata": {},
     "output_type": "execute_result"
    }
   ],
   "source": [
    "centroids, cluster_map = kmeans2(whitened, 3)\n",
    "centroids, cluster_map"
   ]
  },
  {
   "cell_type": "code",
   "execution_count": 368,
   "metadata": {},
   "outputs": [
    {
     "data": {
      "text/plain": [
       "['r',\n",
       " 'r',\n",
       " 'r',\n",
       " 'r',\n",
       " 'g',\n",
       " 'r',\n",
       " 'g',\n",
       " 'b',\n",
       " 'b',\n",
       " 'g',\n",
       " 'g',\n",
       " 'b',\n",
       " 'g',\n",
       " 'b',\n",
       " 'b',\n",
       " 'g',\n",
       " 'g',\n",
       " 'b',\n",
       " 'g',\n",
       " 'b']"
      ]
     },
     "execution_count": 368,
     "metadata": {},
     "output_type": "execute_result"
    }
   ],
   "source": [
    "colors_map = {0: 'r', 1: 'g', 2: 'b', 3: 'y', 4: 'm'}\n",
    "colors = [colors_map[c] for c in cluster_map]\n",
    "colors"
   ]
  },
  {
   "cell_type": "code",
   "execution_count": 369,
   "metadata": {},
   "outputs": [
    {
     "data": {
      "text/plain": [
       "<matplotlib.axes._subplots.AxesSubplot at 0x224bb3f06a0>"
      ]
     },
     "execution_count": 369,
     "metadata": {},
     "output_type": "execute_result"
    },
    {
     "data": {
      "image/png": "[encoded data removed]",
      "text/plain": [
       "<matplotlib.figure.Figure at 0x224bb3983c8>"
      ]
     },
     "metadata": {},
     "output_type": "display_data"
    }
   ],
   "source": [
    "competition_pd.plot.scatter(x='Losses', y='Market value', c=colors, s=100)"
   ]
  },
  {
   "cell_type": "code",
   "execution_count": 370,
   "metadata": {},
   "outputs": [
    {
     "data": {
      "text/plain": [
       "(array([[ 1.09848485,  2.62915703],\n",
       "        [ 0.85858586,  1.06115427],\n",
       "        [ 2.52525253,  0.3065738 ],\n",
       "        [ 2.77777778,  2.4387911 ],\n",
       "        [ 3.40909091,  0.85155027]]),\n",
       " array([1, 0, 1, 1, 0, 0, 0, 2, 2, 3, 3, 2, 3, 4, 4, 3, 3, 4, 3, 4]))"
      ]
     },
     "execution_count": 370,
     "metadata": {},
     "output_type": "execute_result"
    }
   ],
   "source": [
    "centroids, cluster_map = kmeans2(whitened, 5)\n",
    "centroids, cluster_map"
   ]
  },
  {
   "cell_type": "code",
   "execution_count": 371,
   "metadata": {},
   "outputs": [
    {
     "data": {
      "text/plain": [
       "['g',\n",
       " 'r',\n",
       " 'g',\n",
       " 'g',\n",
       " 'r',\n",
       " 'r',\n",
       " 'r',\n",
       " 'b',\n",
       " 'b',\n",
       " 'y',\n",
       " 'y',\n",
       " 'b',\n",
       " 'y',\n",
       " 'm',\n",
       " 'm',\n",
       " 'y',\n",
       " 'y',\n",
       " 'm',\n",
       " 'y',\n",
       " 'm']"
      ]
     },
     "execution_count": 371,
     "metadata": {},
     "output_type": "execute_result"
    }
   ],
   "source": [
    "colors_map = {0: 'r', 1: 'g', 2: 'b', 3: 'y', 4: 'm'}\n",
    "colors = [colors_map[c] for c in cluster_map]\n",
    "colors"
   ]
  },
  {
   "cell_type": "code",
   "execution_count": 372,
   "metadata": {},
   "outputs": [
    {
     "data": {
      "text/plain": [
       "<matplotlib.axes._subplots.AxesSubplot at 0x224bb2df5c0>"
      ]
     },
     "execution_count": 372,
     "metadata": {},
     "output_type": "execute_result"
    },
    {
     "data": {
      "image/png": "[encoded data removed]",
      "text/plain": [
       "<matplotlib.figure.Figure at 0x224bb3c2518>"
      ]
     },
     "metadata": {},
     "output_type": "display_data"
    }
   ],
   "source": [
    "competition_pd.plot.scatter(x='Losses', y='Market value', c=colors, s=100)"
   ]
  }
 ],
 "metadata": {
  "kernelspec": {
   "display_name": "Python 3",
   "language": "python",
   "name": "python3"
  },
  "language_info": {
   "codemirror_mode": {
    "name": "ipython",
    "version": 3
   },
   "file_extension": ".py",
   "mimetype": "text/x-python",
   "name": "python",
   "nbconvert_exporter": "python",
   "pygments_lexer": "ipython3",
   "version": "3.6.3"
  }
 },
 "nbformat": 4,
 "nbformat_minor": 2
}
